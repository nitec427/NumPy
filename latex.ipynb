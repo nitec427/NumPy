{
 "cells": [
  {
   "cell_type": "code",
   "execution_count": null,
   "metadata": {},
   "outputs": [],
   "source": []
  },
  {
   "cell_type": "markdown",
   "metadata": {},
   "source": [
    "<h1><b>Latex Equations</b></h1>"
   ]
  },
  {
   "cell_type": "markdown",
   "metadata": {},
   "source": [
    "<h3 style=\"text-align:center\" > Basic Equations </h3> "
   ]
  },
  {
   "cell_type": "markdown",
   "metadata": {},
   "source": [
    "$$\n",
    "\\frac {arg1} {arg2} \\\\[.1in]\n",
    "x^2 \\\\~\\\\ V_t \\\\~\\\\ B_{ij} \\\\~\\\\ e^{i\\pi} \\\\~\\\\ \\sqrt[n] {arg}\\\\~\\\\ \\alpha \\\\~\\\\ \\omega = 2\\pi f\\\\ \\\\~\\\\ f = \\frac{c}{\\lambda}\n",
    "$$ "
   ]
  },
  {
   "cell_type": "markdown",
   "metadata": {},
   "source": [
    "<h5 style=\"text-align:center\" > Vectors </h5>"
   ]
  },
  {
   "cell_type": "markdown",
   "metadata": {},
   "source": [
    "Angle between u and v: $ \\langle \\vec{u} , \\vec{v} \\rangle $ "
   ]
  },
  {
   "cell_type": "code",
   "execution_count": null,
   "metadata": {},
   "outputs": [],
   "source": []
  }
 ],
 "metadata": {
  "language_info": {
   "name": "python"
  },
  "orig_nbformat": 4
 },
 "nbformat": 4,
 "nbformat_minor": 2
}
